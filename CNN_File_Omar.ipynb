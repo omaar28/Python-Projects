{
 "cells": [
  {
   "cell_type": "markdown",
   "metadata": {},
   "source": [
    "# Part 1: Building CNN Model"
   ]
  },
  {
   "cell_type": "markdown",
   "metadata": {},
   "source": [
    "## Import all the required keras packages:\n",
    "\n",
    "1) <strong>import Sequential:</strong> To intialaise our neural network model as a <span style=\"color:cyan\">Sequential Network</span>, there are 2 basic ways of <strong>Intialising a neural network:</strong> <span style=\"color:cyan\">sequence of layers</span> or as a <span style=\"color:cyan\">graph</span><span style=\"color:white\">.</span>\n",
    "\n",
    "<br>\n",
    "\n",
    "2) <strong>import Conv2D:</strong> To perform the first step of CNN <span style=\"color:cyan\">Convolution Operation</span>, since we are working on images, which a basically 2-D arrays, we are using <span style=\"color:cyan\">Convolution 2-D</span> for <span style=\"color:cyan\">images</span>, \n",
    "<center>usually <span style=\"color:darkgoldenrod\">3-D</span> is used only while dealing with <span style=\"color:darkgoldenrod\">videos</span>, the <span style=\"color:darkgoldenrod\">3rd dimension</span> will be <span style=\"color:darkgoldenrod\">time</span>.</center>\n",
    "\n",
    "<br><br>\n",
    "\n",
    "3) <strong>import MaxPooling2D:</strong> To perform the second step of CNN <span style=\"color:cyan\">Pooling Operation</span>, to build this particular neural network, we are using MaxPooling function, there exist different types of\n",
    "<center><strong>Pooling Operations</strong> as <span style=\"color:cyan\">Min</span>, <span style=\"color:cyan\">Mean</span>, <span style=\"color:cyan\">Average</span>, etc. In <span style=\"color:cyan\">MaxPooling<span> we need the <span style=\"color:cyan\">maximum value pixel</span> from the <span style=\"color:cyan\">respective region of interest</span>.</center>\n",
    "\n",
    "<br><br>\n",
    "\n",
    "4) <strong>import Flatten:</strong> To perform the third step of CNN <span style=\"color:cyan\">Flattening</span>, To convert all the <span style=\"color:cyan\">resultant 2-D arrays</span> into a <span style=\"color:cyan\">single long continuous linear vector</span>.</center>  \n",
    "                                 \n",
    "<br>\n",
    "\n",
    "5) <strong>import Dense:</strong>  To perform the forth step of CNN <span style=\"color:cyan\">Full Connection</span>, To perform the <span style=\"color:cyan\">full connection</span> of the <span style=\"color:cyan\">neural network</span>.\n"
   ]
  },
  {
   "cell_type": "code",
   "execution_count": 1,
   "metadata": {},
   "outputs": [],
   "source": [
    "from keras.models import Sequential\n",
    "from keras.layers import Conv2D\n",
    "from keras.layers import MaxPooling2D\n",
    "from keras.layers import Flatten\n",
    "from keras.layers import Dense"
   ]
  },
  {
   "cell_type": "markdown",
   "metadata": {},
   "source": [
    "## Initializing the CNN\n",
    "\n",
    "Create an object of the <span style=\"color:cyan\">Sequential class</span>."
   ]
  },
  {
   "cell_type": "code",
   "execution_count": 2,
   "metadata": {},
   "outputs": [],
   "source": [
    "classifier = Sequential()"
   ]
  },
  {
   "cell_type": "markdown",
   "metadata": {},
   "source": [
    "## Step 1: Convolution\n",
    "\n",
    "Adding a convolution layer by using <span style=\"color:cyan\">Conv2D</span> on an object already has an idea of how neural network is going to be squential.                                                         \n",
    "\n",
    "<span style=\"color:cyan\">Filters</span> = 32, <span style=\"color:cyan\">Filter's shape</span> = 3 * 3, <span style=\"color:cyan\">Resolution</span> = 64 * 64, <span style=\"color:cyan\">colored images</span> \"<span style=\"color:red\">R</span><span style=\"color:green\">G</span><span style=\"color:blue\">B</span>\" = 3, <span style=\"color:cyan\">activation function</span> used is <span style=\"color:cyan\">rectifier function</span>."
   ]
  },
  {
   "cell_type": "code",
   "execution_count": 3,
   "metadata": {},
   "outputs": [],
   "source": [
    "classifier.add(Conv2D(32, (3, 3), input_shape = (64, 64, 3), activation = 'relu'))"
   ]
  },
  {
   "cell_type": "markdown",
   "metadata": {},
   "source": [
    "## Step 2: Pooling\n",
    "\n",
    "The primary aim of a <span style=\"color:cyan\">Pooling operation</span> is to <span style=\"color:darkgoldenrod\">reduce the size of the images</span> as much as possible, by trying to <span style=\"color:darkgoldenrod\">reduce the total number of nodes</span> for the upcoming layers. The <span style=\"color:darkgoldenrod\">2*2 matrix</span> we will have the <span style=\"color:darkgoldenrod\">minimum pixel loss</span> and get a precise region where the <span style=\"color:darkgoldenrod\">feature are located</span>.\n",
    "<center><span style=\"color:cyan\">Reducing the model complexity without reducing it's performance</span>.<center>"
   ]
  },
  {
   "cell_type": "code",
   "execution_count": 4,
   "metadata": {},
   "outputs": [],
   "source": [
    "classifier.add(MaxPooling2D(pool_size = (2, 2)))"
   ]
  },
  {
   "cell_type": "markdown",
   "metadata": {},
   "source": [
    "## Adding another iteration of 'Filters' and 'Max Pooling'"
   ]
  },
  {
   "cell_type": "code",
   "execution_count": 5,
   "metadata": {},
   "outputs": [],
   "source": [
    "classifier.add(Conv2D(32, (3, 3), activation = 'relu'))\n",
    "classifier.add(MaxPooling2D(pool_size = (2, 2)))"
   ]
  },
  {
   "cell_type": "markdown",
   "metadata": {},
   "source": [
    "## Step 3: Flattening\n",
    "\n",
    "Convert all the pooled images into a continuous vector through <span style=\"color:cyan\">Flattening</span>:\n",
    "<br><center>Taking the 2-D array, i.e <span style=\"color:cyan\">pooled image pixels</span> and converting them to a <span style=\"color:cyan\">one dimensional single vector</span>.</center> "
   ]
  },
  {
   "cell_type": "code",
   "execution_count": 6,
   "metadata": {},
   "outputs": [],
   "source": [
    "classifier.add(Flatten()) "
   ]
  },
  {
   "cell_type": "markdown",
   "metadata": {},
   "source": [
    "## Step 4: Full Connection\n",
    "\n",
    "We are going to connect the set of nodes we got after the flattening step, these nodes will act as an input layer to these <span style=\"color:cyan\">fully-connected layers</span>.\n",
    "<br><center>The layer will be <span style=\"color:cyan\">present between the input and output layers</span>, we can refer to it a <span style=\"color:cyan\">hidden layer</span>.</center>\n",
    "\n",
    "<br>\n",
    "<strong>Dense:</strong> is the function to <span style=\"color:cyan\">add fuly connected layer</span>, '<span style=\"color:darkgoldenrod\">units</span>', is where we define the <span style=\"color:darkgoldenrod\">number of nodes that should be present in this hidden layer</span>, these units value will be always between the number of input nodes and the output nodes but\n",
    "<br>\n",
    "<center><br>The art of choosing the most optimal number of nodes can be achieved only through <span style=\"color:cyan\">experimental tries</span>.</center> \n",
    "<center>It's a common practice to <span style=\"color:cyan\">use the powers of 2</span>, And the activation function will be <span style=\"color:cyan\">rectifier function</span>.<center>"
   ]
  },
  {
   "cell_type": "code",
   "execution_count": null,
   "metadata": {},
   "outputs": [],
   "source": [
    "classifier.add(Dense(units = 128, activation = 'relu'))"
   ]
  },
  {
   "cell_type": "markdown",
   "metadata": {},
   "source": [
    "## Intialize OUTPUT:\n",
    "\n",
    "The output layer contians only <strong>1 node</strong>, \n",
    "<br><center>As it's <span style=\"color:cyan\">binary classification</span>. This single node will give us a <span style=\"color:cyan\">binary output either a Cat or a Dog</span>.</center>\n",
    "\n",
    "<br>\n",
    "As the final layer contains only <span style=\"color:cyan\">1 node</span>, so the given output will be <span style=\"color:cyan\">binary</span>, so the <span style=\"color:cyan\">activation function</span> used is <span style=\"color:cyan\">sigmoid</span>."
   ]
  },
  {
   "cell_type": "code",
   "execution_count": 8,
   "metadata": {},
   "outputs": [],
   "source": [
    "classifier.add(Dense(units = 1, activation = 'sigmoid'))"
   ]
  },
  {
   "cell_type": "markdown",
   "metadata": {},
   "source": [
    "## Compiling CNN Model:\n",
    "\n",
    "<center><span style=\"color:darkgoldenrod\">After we have completed building our CNN model, it's time to compile it.</span></center>\n",
    "\n",
    "<br>\n",
    "\n",
    "1) <strong>Optimizer:</strong> \n",
    "<span style=\"color:cyan\">To choose the stochastic gradient descent algorithm.</span>\n",
    "\n",
    "2) <strong>Loss:</strong> \n",
    "<span style=\"color:cyan\">To choose the loss function.</span>\n",
    "\n",
    "3) <strong>Metrics:</strong> \n",
    "<span style=\"color:cyan\">To choose the performance metric.</span>"
   ]
  },
  {
   "cell_type": "code",
   "execution_count": 9,
   "metadata": {},
   "outputs": [],
   "source": [
    "classifier.compile(optimizer = 'adam', loss = 'binary_crossentropy', metrics = ['accuracy'])"
   ]
  },
  {
   "cell_type": "markdown",
   "metadata": {},
   "source": [
    "# Part 2: Fitting Dataset"
   ]
  },
  {
   "cell_type": "markdown",
   "metadata": {},
   "source": [
    "Before fitting out data to CNN model, we are going to pre-procces the images to  <span style=\"color:darkturquoise\">prevent overfitting</span>, Overfitting is:\n",
    "\n",
    "<center>Getting a <span style=\"color:darkorchid\">great training accuracy</span> and  <span style=\"color:darkviolet; font-weight:bold\">very poor test accuarcy</span> due to overfitting of nodes from 1 layer to another.</center>"
   ]
  },
  {
   "cell_type": "markdown",
   "metadata": {},
   "source": [
    "## First: Perform image augmentations\n",
    "\n",
    "Which is basically synthesising the training data. Using  <span style=\"color:cyan\">keras.preprocessing</span> library for doing the synthesising part as well as to prepare the training set as well as the test set of images that are present "
   ]
  },
  {
   "cell_type": "markdown",
   "metadata": {},
   "source": [
    "<center>Calling <span style=\"color:darkgoldenrod\">image_dataset_from_directory</span>(<span style=\"color:darkviolet\">main_directory</span>, <span style=\"color:darkviolet\">labels='inferred'</span>) will return a <span style=\"color:darkviolet\">tf.data.Dataset</span> that <span style=\"color:darkviolet\">yields batches of images</span> from the <span style=\"color:darkviolet\">subdirectories</span> class_a and class_b, together with labels 0 and 1, <br>\n",
    "    (<span style=\"color:darkgoldenrod\">0</span> corresponding to <span style=\"color:darkgoldenrod\">class_a</span> and <span style=\"color:darkviolet\">1</span> corresponding to <span style=\"color:darkviolet\">class_b</span>).</center>\n",
    "\n",
    "### Parameters:\n",
    "\n",
    "1) <strong>Target size: </strong> Set the values of <span style=\"color:darkviolet\">height</span>, <span style=\"color:darkviolet\">width</span>, default: (256, 256). The dimensions to which all <span style=\"color:darkviolet\">images</span> found will be <span style=\"color:darkviolet\">resized</span>.\n",
    "\n",
    "2) <strong>Batch size: </strong> Set the size of <span style=\"color:darkviolet\">size of the batches</span> of data (default: 32).\n",
    "\n",
    "3) <strong>Class mode: </strong> Mode for <span style=\"color:darkviolet\">yielding</span> the <span style=\"color:darkviolet\">targets</span>, <span style=\"color:darkgoldenrod\">binary</span>: <span style=\"color:darkviolet\">1D numpy array of binary labels</span>."
   ]
  },
  {
   "cell_type": "code",
   "execution_count": 1,
   "metadata": {},
   "outputs": [
    {
     "ename": "NameError",
     "evalue": "name 'train_datagen' is not defined",
     "output_type": "error",
     "traceback": [
      "\u001b[1;31m---------------------------------------------------------------------------\u001b[0m",
      "\u001b[1;31mNameError\u001b[0m                                 Traceback (most recent call last)",
      "Cell \u001b[1;32mIn[1], line 1\u001b[0m\n\u001b[1;32m----> 1\u001b[0m training_set \u001b[39m=\u001b[39m train_datagen\u001b[39m.\u001b[39mflow_from_directory(\n\u001b[0;32m      2\u001b[0m     \u001b[39m'\u001b[39m\u001b[39mC:/Users/Omar/Downloads/Cats-Dogs-Project/train_set\u001b[39m\u001b[39m'\u001b[39m,\n\u001b[0;32m      3\u001b[0m     target_size \u001b[39m=\u001b[39m (\u001b[39m64\u001b[39m, \u001b[39m64\u001b[39m),\n\u001b[0;32m      4\u001b[0m     batch_size \u001b[39m=\u001b[39m \u001b[39m32\u001b[39m,\n\u001b[0;32m      5\u001b[0m     class_mode \u001b[39m=\u001b[39m \u001b[39m'\u001b[39m\u001b[39mbinary\u001b[39m\u001b[39m'\u001b[39m\n\u001b[0;32m      6\u001b[0m )\n",
      "\u001b[1;31mNameError\u001b[0m: name 'train_datagen' is not defined"
     ]
    }
   ],
   "source": [
    "training_set = train_datagen.flow_from_directory(\n",
    "    'C:/Users/Omar/Downloads/Cats-Dogs-Project/train_set',\n",
    "    target_size = (64, 64),\n",
    "    batch_size = 32,\n",
    "    class_mode = 'binary'\n",
    ")"
   ]
  },
  {
   "cell_type": "code",
   "execution_count": null,
   "metadata": {},
   "outputs": [],
   "source": [
    "test_set = test_datagen.flow_from_directory(\n",
    "    'C:/Users/Omar/Downloads/Cats-Dogs-Project/test1',\n",
    "    target_size = (64, 64),\n",
    "    batch_size = 32,\n",
    "    class_mode = 'binary'\n",
    ")"
   ]
  }
 ],
 "metadata": {
  "kernelspec": {
   "display_name": "Python 3 (ipykernel)",
   "language": "python",
   "name": "python3"
  },
  "language_info": {
   "codemirror_mode": {
    "name": "ipython",
    "version": 3
   },
   "file_extension": ".py",
   "mimetype": "text/x-python",
   "name": "python",
   "nbconvert_exporter": "python",
   "pygments_lexer": "ipython3",
   "version": "3.10.5"
  }
 },
 "nbformat": 4,
 "nbformat_minor": 2
}
